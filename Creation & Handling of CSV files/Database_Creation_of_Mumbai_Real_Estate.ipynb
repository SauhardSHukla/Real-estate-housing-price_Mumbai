{
 "cells": [
  {
   "cell_type": "markdown",
   "id": "40515fc9",
   "metadata": {},
   "source": [
    "#### Creation of the Database of the Real Estate of Mumbai "
   ]
  },
  {
   "cell_type": "markdown",
   "id": "82d19470",
   "metadata": {},
   "source": [
    "***Step1: Import of various lib.***"
   ]
  },
  {
   "cell_type": "code",
   "execution_count": 5,
   "id": "b59ace92",
   "metadata": {},
   "outputs": [],
   "source": [
    "import pandas as pd\n",
    "import numpy as np\n",
    "import sqlite3\n",
    "from datetime import datetime, timedelta\n",
    "import random"
   ]
  },
  {
   "cell_type": "markdown",
   "id": "7311deac",
   "metadata": {},
   "source": [
    "***Step3: Various Seeding process for the data to be present in the columns***"
   ]
  },
  {
   "cell_type": "code",
   "execution_count": 6,
   "id": "a4cbc2aa",
   "metadata": {},
   "outputs": [],
   "source": [
    "# Seed for reproducibility\n",
    "np.random.seed(42)\n",
    "\n",
    "# Number of properties\n",
    "n = 10000\n",
    "\n",
    "# Mumbai Localities\n",
    "localities = [\"Andheri\", \"Bandra\", \"Juhu\", \"Powai\", \"Borivali\", \"Dadar\", \"Malad\", \"Goregaon\", \"Kandivali\", \"Vikhroli\"]\n",
    "\n",
    "# Property Types\n",
    "property_types = [\"Apartment\", \"Villa\", \"Studio\"]\n",
    "\n",
    "# Furnishing\n",
    "furnishing_status = [\"Furnished\", \"Semi-Furnished\", \"Unfurnished\"]\n",
    "\n",
    "# Availability\n",
    "availability_status = [\"Ready to move\", \"Under construction\"]"
   ]
  },
  {
   "cell_type": "markdown",
   "id": "a75d1c09",
   "metadata": {},
   "source": [
    "***Step4 : Creation of the various Columns of the Database***"
   ]
  },
  {
   "cell_type": "code",
   "execution_count": 7,
   "id": "30dded91",
   "metadata": {},
   "outputs": [
    {
     "name": "stdout",
     "output_type": "stream",
     "text": [
      "✅ Mumbai real estate housing database created with 10,000 records.\n"
     ]
    }
   ],
   "source": [
    "# Generate synthetic data\n",
    "\n",
    "data = {\n",
    "    \"property_id\": range(1, n + 1),\n",
    "    \"locality\": np.random.choice(localities, n),\n",
    "    \"property_type\": np.random.choice(property_types, n, p=[0.7, 0.2, 0.1]),\n",
    "    \"bhk\": np.random.choice([1, 2, 3, 4], n, p=[0.3, 0.4, 0.2, 0.1]),\n",
    "    \"size_sqft\": np.round(np.random.normal(850, 300, n).clip(300, 2500), 2),\n",
    "    \"price_lakhs\": np.round(np.random.normal(150, 50, n).clip(30, 500), 2),\n",
    "    \"rent_monthly\": np.round(np.random.normal(45000, 15000, n).clip(10000, 200000), 0),\n",
    "    \"availability\": np.random.choice(availability_status, n, p=[0.8, 0.2]),\n",
    "    \"possession_year\": np.random.choice([2024, 2025, 2026, 2027], n, p=[0.5, 0.3, 0.15, 0.05]),\n",
    "    \"furnished_status\": np.random.choice(furnishing_status, n, p=[0.4, 0.4, 0.2]),\n",
    "    \"posted_on\": [datetime(2024, 1, 1) + timedelta(days=random.randint(0, 365)) for _ in range(n)]\n",
    "}\n",
    "\n",
    "\n",
    "# Create DataFrame\n",
    "df = pd.DataFrame(data)\n",
    "\n",
    "# Save to SQLite database\n",
    "conn = sqlite3.connect(\"mumbai_real_estate.db\")\n",
    "df.to_sql(\"housing_data\", conn, if_exists=\"replace\", index=False)\n",
    "conn.close()\n",
    "\n",
    "print(\"✅ Mumbai real estate housing database created with 10,000 records.\")\n"
   ]
  },
  {
   "cell_type": "markdown",
   "id": "f0d73f7f",
   "metadata": {},
   "source": [
    "***Optioanl Work to Visualize the Database***"
   ]
  },
  {
   "cell_type": "code",
   "execution_count": 8,
   "id": "bd7647b2",
   "metadata": {},
   "outputs": [
    {
     "name": "stdout",
     "output_type": "stream",
     "text": [
      "   property_id  locality property_type  bhk  size_sqft  price_lakhs  \\\n",
      "0            1     Malad        Studio    1    1292.29       136.95   \n",
      "1            2     Powai     Apartment    2     894.23       112.35   \n",
      "2            3  Goregaon     Apartment    1     915.87       190.00   \n",
      "3            4  Borivali        Studio    3     889.52       126.44   \n",
      "4            5     Malad     Apartment    2    1019.09       260.05   \n",
      "\n",
      "   rent_monthly   availability  possession_year furnished_status  \\\n",
      "0       55665.0  Ready to move             2025      Unfurnished   \n",
      "1       41791.0  Ready to move             2025        Furnished   \n",
      "2       29550.0  Ready to move             2025   Semi-Furnished   \n",
      "3       50435.0  Ready to move             2025        Furnished   \n",
      "4       40941.0  Ready to move             2025      Unfurnished   \n",
      "\n",
      "             posted_on  \n",
      "0  2024-04-23 00:00:00  \n",
      "1  2024-04-08 00:00:00  \n",
      "2  2024-06-26 00:00:00  \n",
      "3  2024-07-07 00:00:00  \n",
      "4  2024-09-26 00:00:00  \n"
     ]
    }
   ],
   "source": [
    "conn = sqlite3.connect(\"mumbai_real_estate.db\")\n",
    "\n",
    "# Read a sample from the housing_data table\n",
    "df = pd.read_sql(\"SELECT * FROM housing_data LIMIT 5;\", conn)\n",
    "print(df)\n",
    "\n",
    "conn.close()"
   ]
  }
 ],
 "metadata": {
  "kernelspec": {
   "display_name": "Python 3",
   "language": "python",
   "name": "python3"
  },
  "language_info": {
   "codemirror_mode": {
    "name": "ipython",
    "version": 3
   },
   "file_extension": ".py",
   "mimetype": "text/x-python",
   "name": "python",
   "nbconvert_exporter": "python",
   "pygments_lexer": "ipython3",
   "version": "3.12.3"
  }
 },
 "nbformat": 4,
 "nbformat_minor": 5
}
