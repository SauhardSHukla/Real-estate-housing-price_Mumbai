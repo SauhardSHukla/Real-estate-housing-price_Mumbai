{
 "cells": [
  {
   "cell_type": "markdown",
   "id": "babf736b",
   "metadata": {},
   "source": [
    "### Python Script to Convert .db to .csv python"
   ]
  },
  {
   "cell_type": "markdown",
   "id": "b92a6184",
   "metadata": {},
   "source": [
    "***Import of the important Lib.***"
   ]
  },
  {
   "cell_type": "code",
   "execution_count": 17,
   "id": "f0fb0878",
   "metadata": {},
   "outputs": [],
   "source": [
    "import sqlite3\n",
    "import pandas as pd"
   ]
  },
  {
   "cell_type": "markdown",
   "id": "9f5794b6",
   "metadata": {},
   "source": [
    "***Step 1: connect to the database***"
   ]
  },
  {
   "cell_type": "code",
   "execution_count": 18,
   "id": "c16fbf1f",
   "metadata": {},
   "outputs": [],
   "source": [
    "conn = sqlite3.connect('mumbai_real_estate.db')  "
   ]
  },
  {
   "cell_type": "markdown",
   "id": "1ba3a4ac",
   "metadata": {},
   "source": [
    "**Optional work: If want to know there are how many Tables are present in the Database**"
   ]
  },
  {
   "cell_type": "code",
   "execution_count": 19,
   "id": "c5f4ddc4",
   "metadata": {},
   "outputs": [
    {
     "name": "stdout",
     "output_type": "stream",
     "text": [
      "Tables in the database: housing_data\n"
     ]
    }
   ],
   "source": [
    "cursor = conn.cursor()\n",
    "cursor.execute(\"SELECT name FROM sqlite_master WHERE type='table';\")\n",
    "tables = cursor.fetchall()\n",
    "\n",
    "for table in tables:\n",
    "  print(\"Tables in the database:\", table[0])"
   ]
  },
  {
   "cell_type": "markdown",
   "id": "5b0953da",
   "metadata": {},
   "source": [
    "***Step2 : Read a table form Dataframe***"
   ]
  },
  {
   "cell_type": "code",
   "execution_count": 20,
   "id": "2b40969b",
   "metadata": {},
   "outputs": [],
   "source": [
    "tabel_name ='housing_data'\n",
    "dataframe = pd.read_sql_query(f'SELECT * FROM {tabel_name}',conn)"
   ]
  },
  {
   "cell_type": "markdown",
   "id": "ef2ce156",
   "metadata": {},
   "source": [
    "***Step3 : Save the dataframe to a csv file***"
   ]
  },
  {
   "cell_type": "code",
   "execution_count": 21,
   "id": "82fa7560",
   "metadata": {},
   "outputs": [
    {
     "name": "stdout",
     "output_type": "stream",
     "text": [
      "CSV file created successfully!\n"
     ]
    }
   ],
   "source": [
    "dataframe.to_csv('Mumbai_Housing_Real_Estate.csv', index=False)\n",
    "print(\"CSV file created successfully!\")"
   ]
  }
 ],
 "metadata": {
  "kernelspec": {
   "display_name": "Python 3",
   "language": "python",
   "name": "python3"
  },
  "language_info": {
   "codemirror_mode": {
    "name": "ipython",
    "version": 3
   },
   "file_extension": ".py",
   "mimetype": "text/x-python",
   "name": "python",
   "nbconvert_exporter": "python",
   "pygments_lexer": "ipython3",
   "version": "3.12.3"
  }
 },
 "nbformat": 4,
 "nbformat_minor": 5
}
