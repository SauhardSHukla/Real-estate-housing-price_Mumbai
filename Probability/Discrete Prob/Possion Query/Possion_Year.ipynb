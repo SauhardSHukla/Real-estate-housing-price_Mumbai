{
 "cells": [
  {
   "cell_type": "markdown",
   "id": "8c68bdd3",
   "metadata": {},
   "source": [
    "### 🔹 Possession Year Trend Analysis using Poisson Distribution\n",
    "\n",
    "We analyzed the frequency of property possessions by year (**2024**, **2025**, **2026**, **2027**) using the **Poisson distribution**. The goal was to assess whether possession events follow a consistent trend or show significant deviations.\n",
    "\n",
    "- **λ (average possessions per year)** was calculated.\n",
    "- **Actual vs. Poisson-expected counts** were visualized.\n",
    "- The analysis revealed that **2024/2025/2026/2027 had significantly more possessions** than expected, suggesting a potential cluster or early market focus.\n",
    "\n",
    "> This helps stakeholders understand whether possession years are **uniformly distributed** or biased toward certain periods.\n"
   ]
  },
  {
   "cell_type": "markdown",
   "id": "cfd65b96",
   "metadata": {},
   "source": [
    "____"
   ]
  },
  {
   "cell_type": "markdown",
   "id": "3910f3d3",
   "metadata": {},
   "source": [
    "***Import the Lib.***"
   ]
  },
  {
   "cell_type": "code",
   "execution_count": 1,
   "id": "0c1bd4f6",
   "metadata": {},
   "outputs": [],
   "source": [
    "import matplotlib.pyplot as plt\n",
    "import scipy.stats as stats\n",
    "import pandas as pd"
   ]
  },
  {
   "cell_type": "markdown",
   "id": "b66162d0",
   "metadata": {},
   "source": [
    "***Load the CSV File***"
   ]
  },
  {
   "cell_type": "code",
   "execution_count": 2,
   "id": "c1044502",
   "metadata": {},
   "outputs": [],
   "source": [
    "df = pd.read_csv('C:/Users/5530/OneDrive/Desktop/Real_State_Housing_Mumbai/Creation & Handling of CSV files/CSV_Files/simple_sampling.csv')"
   ]
  },
  {
   "cell_type": "markdown",
   "id": "70e755c4",
   "metadata": {},
   "source": [
    "***Handling the possion year columns in the Database***"
   ]
  },
  {
   "cell_type": "code",
   "execution_count": 3,
   "id": "8c7a852b",
   "metadata": {},
   "outputs": [
    {
     "name": "stdout",
     "output_type": "stream",
     "text": [
      "possession_year\n",
      "2024    498\n",
      "2025    318\n",
      "2026    128\n",
      "2027     56\n",
      "Name: count, dtype: int64\n"
     ]
    }
   ],
   "source": [
    "possion_year = df['possession_year'].value_counts().sort_index()\n",
    "print(possion_year)"
   ]
  },
  {
   "cell_type": "markdown",
   "id": "46d38afb",
   "metadata": {},
   "source": [
    "***Calculate Mean***"
   ]
  },
  {
   "cell_type": "code",
   "execution_count": null,
   "id": "c07d28cb",
   "metadata": {},
   "outputs": [
    {
     "name": "stdout",
     "output_type": "stream",
     "text": [
      "Average possessions per year: 250.0\n"
     ]
    }
   ],
   "source": [
    "lambda_poisson = possion_year.mean()\n",
    "print(f\"Average possessions per year: {lambda_poisson}\")"
   ]
  },
  {
   "cell_type": "markdown",
   "id": "79c915af",
   "metadata": {},
   "source": [
    "***Visualize***"
   ]
  },
  {
   "cell_type": "code",
   "execution_count": null,
   "id": "dac872e2",
   "metadata": {},
   "outputs": [
    {
     "name": "stdout",
     "output_type": "stream",
     "text": [
      "[498 318 128  56],Index([2024, 2025, 2026, 2027], dtype='int64', name='possession_year')\n"
     ]
    },
    {
     "data": {
      "image/png": "[encoded data removed]",
      "text/plain": [
       "<Figure size 640x480 with 1 Axes>"
      ]
     },
     "metadata": {},
     "output_type": "display_data"
    }
   ],
   "source": [
    "years = possion_year.index\n",
    "counts = possion_year.values\n",
    "print(f'{counts},{years}')\n",
    "\n",
    "# Generate Poisson PMF for same years\n",
    "poisson_vals = stats.poisson.pmf(k=counts, mu=lambda_poisson) * sum(counts)\n",
    "# print(poisson_vals)\n",
    "\n",
    "# Plot\n",
    "plt.bar(years, counts, alpha=0.6, label=\"Actual\", align='center')\n",
    "plt.plot(years, poisson_vals, 'ro-', label=\"Poisson Expected\")\n",
    "plt.xlabel(\"Possession Year\")\n",
    "plt.ylabel(\"Number of Properties\")\n",
    "plt.title(\"Poisson Distribution of Possession Year\")\n",
    "plt.xticks(years)\n",
    "# plt.xticks(ticks=years, labels=[str(year) for year in years]) #if not use align\n",
    "plt.legend()\n",
    "plt.show()"
   ]
  },
  {
   "cell_type": "markdown",
   "id": "5ef59826",
   "metadata": {},
   "source": [
    "## Transition from Poisson Distribution to Time Series Modeling\n",
    "\n",
    "Initially, we approached the problem of modeling the number of property possessions using a **Poisson distribution**, considering that we were dealing with discrete count data. However, after visualizing and analyzing the data, we observed a **non-random downward trend** over the years, which violates the core assumption of the Poisson distribution—**that the mean rate (λ) remains constant over time**.\n",
    "\n",
    "Upon deeper inspection, it became clear that the property possession data exhibits **temporal dependence** and **sequential patterns** that a static probabilistic model like Poisson cannot capture effectively.\n",
    "\n",
    "### Why Poisson Didn't Fit Well\n",
    "- The count of possessions significantly declines each year.\n",
    "- Poisson assumes independence and constant mean rate, which is not true in our case.\n",
    "- The variance in our data was much higher than the mean, violating the equidispersion property of Poisson.\n",
    "\n",
    "---\n",
    "\n",
    "## Shift to Time Series Modeling\n",
    "\n",
    "To better model the trend and make future forecasts, we transitioned to a **Time Series approach**, specifically using **Simple Exponential Smoothing (SES)**. This model is more appropriate for our data because it:\n",
    "- Captures the declining trend over time.\n",
    "- Allows forecasting for future years.\n",
    "- Assigns more weight to recent data, making it responsive to change.\n",
    "\n",
    "As more yearly data becomes available, this approach can be extended to more advanced models like **ARIMA** or **Facebook Prophet**, which can capture trends and seasonality with higher precision.\n",
    "\n",
    "---\n",
    "\n",
    "## Conclusion\n",
    "\n",
    "The key takeaway is that **model selection must align with data behavior**. While Poisson was a reasonable starting point for count data, our possession data required a time-aware approach to model the downward trend and forecast future behavior effectively.\n"
   ]
  },
  {
   "cell_type": "code",
   "execution_count": null,
   "id": "9d3bc325",
   "metadata": {},
   "outputs": [],
   "source": []
  }
 ],
 "metadata": {
  "kernelspec": {
   "display_name": "Python 3",
   "language": "python",
   "name": "python3"
  },
  "language_info": {
   "codemirror_mode": {
    "name": "ipython",
    "version": 3
   },
   "file_extension": ".py",
   "mimetype": "text/x-python",
   "name": "python",
   "nbconvert_exporter": "python",
   "pygments_lexer": "ipython3",
   "version": "3.12.3"
  }
 },
 "nbformat": 4,
 "nbformat_minor": 5
}
